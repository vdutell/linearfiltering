{
 "cells": [
  {
   "cell_type": "markdown",
   "id": "7c7a2e94-873f-4d92-b7cc-32410908f10a",
   "metadata": {},
   "source": [
    "# Compute Limits\n",
    "Choose the limits of spatiotemporal sensitivity to define the spatiotemporal frequency range of our filters.\n",
    "\n",
    "May want to take into account:\n",
    " - Spatiotemporal Contrast Sensitivity Function\n",
    " - Flicker Fusion Frequency\n",
    " - Changes in Periphery\n",
    " - Changes in Color Channels\n",
    " - Nyquist values for filters\n",
    " - Smallest possible filter footprint\n"
   ]
  },
  {
   "cell_type": "markdown",
   "id": "9ac33ee5-0d74-412b-91f7-d1319d4a7546",
   "metadata": {},
   "source": [
    "## Spatiotemporal Contrast Sensitivity (Kelly, 1966)\n",
    " - Peak sensitivity is at 1-5cpd at 0.5-5Hz. This corresponds to *velocity* of 0.1-5 degrees/sec.  \n",
    " - Low sensitivity above 20Hz for all spatial frequencies and above 15cpd for all temporal frequencies tested.\n",
    " - Sensitivity at lower than 0.2cpd and 0.5Hz, but low sensitivity below the joint 0.2cpd+0.5Hz spatioemproal frequency space.\n",
    "## Peripheral Spatiotemporal Flicker Fusnion (Krajancich, Kellnhofer, and Wetzstein et al 2021)\n",
    " - For lowest spatial frequencies, flicker CFF is around 95 Hz, and above ~2CPD it's lower than 40Hz.\n",
    " - Peripheral CFF stays higher for longer as spatial frequency increases, compared to fovea.\n"
   ]
  },
  {
   "cell_type": "code",
   "execution_count": 3,
   "id": "d3e966b8-7182-444a-b30c-ad609725f97e",
   "metadata": {},
   "outputs": [
    {
     "name": "stdout",
     "output_type": "stream",
     "text": [
      "128 40\n"
     ]
    }
   ],
   "source": [
    "sf_range = [0,16] #defined in CPD (up this to 16 for filter size)\n",
    "tf_range = [0,20] #defined in Hz\n",
    "\n",
    "#define ppd and frame rate as double the max of sensitvity range.\n",
    "ppd = 2*sf_range[1] #defined in PPD\n",
    "fr = 2*tf_range[1] #defined in FPS *note this is double the max sensitivity from Kelly 1966 but the Krajancich says CFF is 95Hz for lowest spaital frequencies, which is computationally infeasible so sticking with the Kelly data.\n",
    "\n",
    "#define filter sizes\n",
    "    #make spatial filter subtend 3 degrees\n",
    "sfilt_size = ppd*4 #128 pixels wide\n",
    "tfilt_size = fr  #40 frames  1 second long so we can represent up to 0.5Hz\n",
    "\n",
    "print(sfilt_size, tfilt_size)"
   ]
  },
  {
   "cell_type": "code",
   "execution_count": null,
   "id": "c1df04aa-f862-4201-9b1e-f6bc582b36c2",
   "metadata": {},
   "outputs": [],
   "source": []
  }
 ],
 "metadata": {
  "kernelspec": {
   "display_name": "Python 3 (ipykernel)",
   "language": "python",
   "name": "python3"
  },
  "language_info": {
   "codemirror_mode": {
    "name": "ipython",
    "version": 3
   },
   "file_extension": ".py",
   "mimetype": "text/x-python",
   "name": "python",
   "nbconvert_exporter": "python",
   "pygments_lexer": "ipython3",
   "version": "3.9.16"
  }
 },
 "nbformat": 4,
 "nbformat_minor": 5
}
