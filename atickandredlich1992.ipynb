{
 "cells": [
  {
   "cell_type": "markdown",
   "metadata": {},
   "source": [
    "# Ideal Temporal Filter\n",
    "\n",
    "Atick & Redlich (1992). What Does the Retina Know about Natural Scenes?\n",
    "\n"
   ]
  },
  {
   "cell_type": "code",
   "execution_count": 1,
   "metadata": {},
   "outputs": [],
   "source": [
    "import numpy as np\n",
    "import matplotlib.pyplot as plt"
   ]
  },
  {
   "cell_type": "markdown",
   "metadata": {},
   "source": [
    "## Equations For Analysis\n",
    "\n",
    "We use the following key equations to produce the plots in figures 3 and 4"
   ]
  },
  {
   "cell_type": "markdown",
   "metadata": {},
   "source": [
    "$K_{exp}$ is the measured filter when measuring response at RGC output(Equation 2.7) is defined as:\n",
    "\n",
    "$$ |{K_{exp}(f)}| = |K(F)| M(f) = \\frac{M(f)\\sqrt{\\rho}}{{\\{M^2(f)[R(f)+N^2]+N_0^2}\\}^{\\frac{1}{2}}} $$\n",
    "\n",
    "  \n",
    "\n",
    "$M(f)$ is the low pass filter (optical MTF of eye combined with visual system's circuit LPF) (Equation 2.8) is:\n",
    "\n",
    "$$ M(f) = \\frac{1}{N} \\left[\\frac{1}{I_0} \\frac{R(f)}{R(f)+N^2}\\right]^{\\frac{1}{2}} e^{-(|f|/f_c)^\\alpha} $$\n",
    "\n",
    "\n",
    "\n",
    "$R(f)$ is the power law spectrum of natural scenes is defined as:\n",
    "\n",
    "$$ R(f) = \\frac{1}{f^2} $$\n"
   ]
  },
  {
   "cell_type": "markdown",
   "metadata": {},
   "source": [
    "$N^2(f)$ is the power of input noise and is defined as: \n",
    "\n",
    "$$N^2(f) = \\big \\langle|n(f)|^2\\big \\rangle$$\n",
    "\n",
    "$N_0^2(f)$ is the power of synaptic noise and is defined as: \n",
    "\n",
    "$$N_0^2(f) = \\big \\langle|n_0(f)|^2\\big \\rangle$$"
   ]
  },
  {
   "cell_type": "markdown",
   "metadata": {},
   "source": [
    "With the following parameters:\n",
    "\n",
    "$f_c$ : cuttoff frequency for eye MTF low pass filter in primates  \n",
    "$\\alpha$ : MTF low pass filter fit in primates  \n",
    "$\\rho$ : A lagrangian multiplyer ensuring reversability of processing / retention of information  \n",
    "$n$ : Quantum noise of world (dominates at low light levels)  \n",
    "$n_0$ : Synaptic noise of visual system (dominates at high light levels)   "
   ]
  },
  {
   "cell_type": "markdown",
   "metadata": {},
   "source": [
    "## Predicted Retinal Filter for typical set of parameters (Figure 3)\n",
    "\n",
    "Plot three curves for a typical set of parameters\n",
    "\n",
    "curve a : $K_{exp}(f)$ (Equation 2.7)  \n",
    "curve b : $R(f)^{-1.5}$ (pure whitening filter)   \n",
    "curve c : $M$ (pure loss pass filter)"
   ]
  },
  {
   "cell_type": "markdown",
   "metadata": {},
   "source": [
    "We set our 4 free parameters to:\n",
    "\n",
    "$f_c$ : 22 cycles/deg  \n",
    "$\\alpha$ : 1.4  \n",
    "$\\rho$ : 2.7e5  \n",
    "$N'$ : 1.0  "
   ]
  },
  {
   "cell_type": "code",
   "execution_count": 2,
   "metadata": {},
   "outputs": [],
   "source": [
    "#r(f) is the power spectrum of natural scenes (power law)\n",
    "def r_power_spectrum(f, inaught):\n",
    "    result = (inaught**2)/(np.absolute(f)**2)\n",
    "    return(result)\n",
    "\n",
    "#m(f) is the low pass filter \n",
    "def m_low_pass(f, fc, alpha, n, inaught):\n",
    "    r_f = r_power_spectrum(f, inaught)\n",
    "    lpf = 1/inaught * r_f/(r_f + n**2)\n",
    "    exp = -(np.absolute(f)/fc)**alpha\n",
    "    \n",
    "    result = 1/n * lpf**0.5 * np.exp(exp)\n",
    "    return(result)\n",
    "\n",
    "    \n",
    "#k(f) is our kernel\n",
    "def k(f, fc, alpha, rho, nprime, inaught, nnaught):\n",
    "    n = np.sqrt(inaught*nprime**2)\n",
    "    #n=inaught\n",
    "    m_f = m_low_pass(f, fc, alpha, n, inaught)\n",
    "    numerator = m_f * np.sqrt(rho)\n",
    "    denominator = (m_f**2 * (r_power_spectrum(f, inaught) + n**2) + nnaught**2)**0.5\n",
    "    result = numerator / denominator\n",
    "    return(result)\n",
    "\n",
    "\n",
    "def whitening_filter(f, inaught):\n",
    "    filtered = r_power_spectrum(f, inaught)**(-0.5)\n",
    "    return(filtered)"
   ]
  },
  {
   "cell_type": "code",
   "execution_count": 3,
   "metadata": {},
   "outputs": [],
   "source": [
    "freqs = np.logspace(-2,2,200)\n",
    "\n",
    "fc = 22\n",
    "alpha = 1.4\n",
    "rho = 2.7e5\n",
    "nprime = 1\n",
    "inaught = 1\n",
    "nnaught = 1\n",
    "\n",
    "n = np.sqrt(inaught*nprime**2)\n",
    "\n",
    "curve_a = k(freqs, fc, alpha, rho, nprime, inaught, nnaught)\n",
    "curve_b = whitening_filter(freqs, inaught)\n",
    "curve_c = m_low_pass(freqs, fc, alpha, n, inaught)\n",
    "\n",
    "curve_a = curve_a / 500 #*****"
   ]
  },
  {
   "cell_type": "markdown",
   "metadata": {},
   "source": [
    "**What is wrong here???** Have to divide curve a by 500 to get it to fit"
   ]
  },
  {
   "cell_type": "code",
   "execution_count": 4,
   "metadata": {},
   "outputs": [
    {
     "data": {
      "text/plain": [
       "Text(0.5, 1.0, 'Three Curves - Figure 3')"
      ]
     },
     "execution_count": 4,
     "metadata": {},
     "output_type": "execute_result"
    },
    {
     "data": {
      "image/png": "[encoded data removed]",
      "text/plain": [
       "<Figure size 432x288 with 1 Axes>"
      ]
     },
     "metadata": {
      "needs_background": "light"
     },
     "output_type": "display_data"
    }
   ],
   "source": [
    "plt.loglog(freqs, curve_a, label='Curve A: Retinal Filt')\n",
    "#plt.loglog(freqs, r_power_spectrum(freqs, 1), label='Power Spectrum')\n",
    "plt.loglog(freqs, curve_b, label='Curve B: Whitening Filt')\n",
    "plt.loglog(freqs, curve_c, label='Curve C: Low Pass Filt')\n",
    "plt.xlabel('Spatial Frequency')\n",
    "plt.ylabel('Sensitivity')\n",
    "plt.legend()\n",
    "plt.title('Three Curves - Figure 3')"
   ]
  },
  {
   "cell_type": "markdown",
   "metadata": {},
   "source": [
    "**This plot looks good, but we had to divide curve a by 500 to get it to match with curve b and curve c, so not sure what caused this.**"
   ]
  },
  {
   "cell_type": "markdown",
   "metadata": {},
   "source": [
    "## Deriving the Family of curves for the ideal spatial decorrelator (Figure 4)\n",
    "\n",
    "Now, vary $I_0$ to get a family of curves for various luminance levels"
   ]
  },
  {
   "cell_type": "markdown",
   "metadata": {},
   "source": [
    "And we vary the value of $I_0$ to form individual curve families"
   ]
  },
  {
   "cell_type": "code",
   "execution_count": 5,
   "metadata": {},
   "outputs": [],
   "source": [
    "#m(f) is the low pass filter \n",
    "def m(f, fc, alpha, n, inaught):\n",
    "    r_f = r_power_spectrum(f, inaught)\n",
    "    lpf = 1/inaught * r_f/(r_f + n**2)\n",
    "    exp = -(np.absolute(f)/fc)**alpha\n",
    "    result = 1/n * (lpf**0.5) * np.exp(exp)\n",
    "    return(result)\n",
    "\n",
    "    \n",
    "#k(f) is our kernel\n",
    "def k(f, fc, alpha, rho, nprime, inaught, nnaught):\n",
    "    #n = np.sqrt(inaught*nprime**2)\n",
    "    n=np.sqrt(inaught)\n",
    "    m_f = m(f, fc, alpha, n, inaught)\n",
    "    numerator = m_f * np.sqrt(rho)\n",
    "    denominator = (m_f**2 * (r_power_spectrum(f, inaught) + n**2) + nnaught**2)**0.5\n",
    "    result = numerator / denominator\n",
    "    return(result)"
   ]
  },
  {
   "cell_type": "code",
   "execution_count": 14,
   "metadata": {},
   "outputs": [],
   "source": [
    "freqs = np.logspace(-1,2,100)\n",
    "\n",
    "fc = 22.\n",
    "alpha = 1.4\n",
    "rho = 270000.\n",
    "nprime = 1.\n",
    "nnaught = 1.\n",
    "\n",
    "#calculate our spectra\n",
    "inaughts = np.logspace(-2, 2, 5)\n",
    "kspectra = [k(freqs, fc, alpha, rho, nprime, inaught, nnaught) for inaught in inaughts]                              "
   ]
  },
  {
   "cell_type": "code",
   "execution_count": 15,
   "metadata": {},
   "outputs": [
    {
     "data": {
      "text/plain": [
       "Text(0.5, 1.0, 'Varying $I_0$, Figure 4')"
      ]
     },
     "execution_count": 15,
     "metadata": {},
     "output_type": "execute_result"
    },
    {
     "data": {
      "image/png": "[encoded data removed]",
      "text/plain": [
       "<Figure size 432x288 with 1 Axes>"
      ]
     },
     "metadata": {
      "needs_background": "light"
     },
     "output_type": "display_data"
    }
   ],
   "source": [
    "for i in range(len(inaughts)):\n",
    "    inaught= inaughts[i]\n",
    "    spec = kspectra[i]\n",
    "    plt.loglog(freqs, spec, label=f'$I_0 = {inaught}$')\n",
    "plt.xlabel('Spatial Frequency c/deg')\n",
    "plt.ylabel('Contrast Sensitivity')\n",
    "plt.legend()\n",
    "plt.title('Varying $I_0$, Figure 4')"
   ]
  },
  {
   "cell_type": "markdown",
   "metadata": {},
   "source": [
    "**These look close to figure 4 from the paper in that the general shape is correct, but still not quite right at low frequencies, where the curves should meet.**\n",
    "\n",
    "Note however, the data from Van nes & Bouman 1967 which is matched to the curves in the paper, doesn't extend into the flatter region of the curves.   "
   ]
  },
  {
   "cell_type": "code",
   "execution_count": null,
   "metadata": {},
   "outputs": [],
   "source": []
  }
 ],
 "metadata": {
  "kernelspec": {
   "display_name": "Python 3",
   "language": "python",
   "name": "python3"
  },
  "language_info": {
   "codemirror_mode": {
    "name": "ipython",
    "version": 3
   },
   "file_extension": ".py",
   "mimetype": "text/x-python",
   "name": "python",
   "nbconvert_exporter": "python",
   "pygments_lexer": "ipython3",
   "version": "3.7.9"
  }
 },
 "nbformat": 4,
 "nbformat_minor": 4
}
